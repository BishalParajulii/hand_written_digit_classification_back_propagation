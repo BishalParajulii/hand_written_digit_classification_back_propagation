{
  "cells": [
    {
      "cell_type": "code",
      "execution_count": 7,
      "metadata": {
        "id": "Euaspmu3lOAL"
      },
      "outputs": [],
      "source": [
        "import numpy as np\n",
        "import pandas as pd\n",
        "import matplotlib.pyplot as plt\n",
        "import seaborn as sns\n",
        "import warnings\n",
        "import tensorflow as tf\n",
        "import cv2\n",
        "warnings.filterwarnings('ignore')"
      ]
    },
    {
      "cell_type": "code",
      "execution_count": 5,
      "metadata": {
        "id": "mD-44sQ-lqXS"
      },
      "outputs": [],
      "source": [
        "mnist = tf.keras.datasets.mnist"
      ]
    },
    {
      "cell_type": "code",
      "execution_count": 6,
      "metadata": {
        "colab": {
          "base_uri": "https://localhost:8080/"
        },
        "id": "Mr-b9LwqoroQ",
        "outputId": "1abdbe77-760a-4a9e-f4a2-b6b84b0ff2ca"
      },
      "outputs": [
        {
          "name": "stdout",
          "output_type": "stream",
          "text": [
            "Downloading data from https://storage.googleapis.com/tensorflow/tf-keras-datasets/mnist.npz\n",
            "11490434/11490434 [==============================] - 1s 0us/step\n"
          ]
        }
      ],
      "source": [
        "(X_train, y_train), (X_test, y_test) = mnist.load_data()"
      ]
    },
    {
      "cell_type": "code",
      "execution_count": 9,
      "metadata": {
        "id": "p2ygh6E0pdzA"
      },
      "outputs": [],
      "source": [
        "x_train = tf.keras.utils.normalize(X_train, axis=1)\n",
        "x_test = tf.keras.utils.normalize(X_test, axis=1)"
      ]
    },
    {
      "cell_type": "code",
      "execution_count": 10,
      "metadata": {
        "id": "kRwTZYFPpx7V"
      },
      "outputs": [],
      "source": [
        "#input layer\n",
        "model = tf.keras.models.Sequential()\n",
        "model.add(tf.keras.layers.Flatten(input_shape=(28,28)))"
      ]
    },
    {
      "cell_type": "code",
      "execution_count": 11,
      "metadata": {
        "id": "LTXfTR5gqnHD"
      },
      "outputs": [],
      "source": [
        "#hidden layer\n",
        "model.add(tf.keras.layers.Dense(128, activation='relu'))\n",
        "model.add(tf.keras.layers.Dense(128, activation='relu'))\n",
        "model.add(tf.keras.layers.Dense(128, activation='relu'))\n",
        "model.add(tf.keras.layers.Dense(128, activation='relu'))\n"
      ]
    },
    {
      "cell_type": "code",
      "execution_count": 12,
      "metadata": {
        "id": "91K_lAFUrSY4"
      },
      "outputs": [],
      "source": [
        "#output layer \n",
        "model.add(tf.keras.layers.Dense(10, activation='softmax'))"
      ]
    },
    {
      "cell_type": "code",
      "execution_count": 13,
      "metadata": {
        "id": "6xVFIr0DrcoT"
      },
      "outputs": [],
      "source": [
        "#for backpropagation\n",
        "model.compile(optimizer='adam', loss='sparse_categorical_crossentropy', metrics=['accuracy'])"
      ]
    },
    {
      "cell_type": "code",
      "execution_count": 14,
      "metadata": {
        "colab": {
          "base_uri": "https://localhost:8080/"
        },
        "id": "IdkqV_12rhp7",
        "outputId": "2218aa6c-86d8-401a-aa01-78b8ecfce858"
      },
      "outputs": [
        {
          "name": "stdout",
          "output_type": "stream",
          "text": [
            "Epoch 1/3\n",
            "1875/1875 [==============================] - 12s 5ms/step - loss: 0.2551 - accuracy: 0.9229\n",
            "Epoch 2/3\n",
            "1875/1875 [==============================] - 11s 6ms/step - loss: 0.1114 - accuracy: 0.9658\n",
            "Epoch 3/3\n",
            "1875/1875 [==============================] - 11s 6ms/step - loss: 0.0791 - accuracy: 0.9748\n"
          ]
        },
        {
          "data": {
            "text/plain": [
              "<keras.src.callbacks.History at 0x7b93fc504970>"
            ]
          },
          "execution_count": 14,
          "metadata": {},
          "output_type": "execute_result"
        }
      ],
      "source": [
        "model.fit(x_train, y_train, epochs=3)"
      ]
    },
    {
      "cell_type": "code",
      "execution_count": 15,
      "metadata": {
        "id": "0jzmjxqFr13i"
      },
      "outputs": [],
      "source": [
        "#saving model\n",
        "model.save('mnist.model')"
      ]
    },
    {
      "cell_type": "code",
      "execution_count": 16,
      "metadata": {
        "colab": {
          "base_uri": "https://localhost:8080/"
        },
        "id": "i8RIawztsAHK",
        "outputId": "87ef65f4-5c55-41ce-fcc0-adf63e79150c"
      },
      "outputs": [
        {
          "name": "stdout",
          "output_type": "stream",
          "text": [
            "313/313 [==============================] - 1s 3ms/step - loss: 0.0921 - accuracy: 0.9736\n"
          ]
        }
      ],
      "source": [
        "loss , accuracy = model.evaluate(x_test, y_test)"
      ]
    },
    {
      "cell_type": "code",
      "execution_count": 17,
      "metadata": {
        "colab": {
          "base_uri": "https://localhost:8080/"
        },
        "id": "cQsOKbBQsa2I",
        "outputId": "1396a560-0073-4bf4-815f-1ac69a633b6e"
      },
      "outputs": [
        {
          "name": "stdout",
          "output_type": "stream",
          "text": [
            "0.09213212877511978\n",
            "0.9735999703407288\n"
          ]
        }
      ],
      "source": [
        "print(loss)\n",
        "print(accuracy)"
      ]
    },
    {
      "cell_type": "code",
      "execution_count": 43,
      "metadata": {
        "colab": {
          "base_uri": "https://localhost:8080/",
          "height": 469
        },
        "id": "sceF0SacsdyQ",
        "outputId": "26989f13-59ff-4c2b-d283-9bf8fb1ed3dd"
      },
      "outputs": [
        {
          "name": "stdout",
          "output_type": "stream",
          "text": [
            "1/1 [==============================] - 0s 25ms/step\n"
          ]
        },
        {
          "data": {
            "image/png": "[encoded data removed]",
            "text/plain": [
              "<Figure size 640x480 with 1 Axes>"
            ]
          },
          "metadata": {},
          "output_type": "display_data"
        }
      ],
      "source": [
        "import os\n",
        "# Select the first image from the test set\n",
        "image = x_test[5]\n",
        "\n",
        "# Invert the image colors if necessary (assuming the model expects inverted colors)\n",
        "#image = np.invert(np.array(image))\n",
        "\n",
        "# Reshape the image to match the model's input shape\n",
        "image = image.reshape(1, 28, 28, 1)  # Add the channel dimension for grayscale\n",
        "\n",
        "# Make a prediction\n",
        "prediction = model.predict(image)\n",
        "digit = np.argmax(prediction)\n",
        "\n",
        "# Display the image\n",
        "plt.imshow(image.reshape(28, 28), cmap=plt.cm.binary)\n",
        "plt.title(f'Predicted Digit: {digit}')\n",
        "plt.show()"
      ]
    }
  ],
  "metadata": {
    "colab": {
      "provenance": []
    },
    "kernelspec": {
      "display_name": "Python 3",
      "name": "python3"
    },
    "language_info": {
      "name": "python"
    }
  },
  "nbformat": 4,
  "nbformat_minor": 0
}
